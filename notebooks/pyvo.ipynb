{
 "cells": [
  {
   "cell_type": "code",
   "execution_count": null,
   "metadata": {},
   "outputs": [],
   "source": [
    "from astropy import coordinates\n",
    "from astropy.wcs import WCS\n",
    "import astropy.io\n",
    "import astropy.units as u"
   ]
  },
  {
   "cell_type": "code",
   "execution_count": null,
   "metadata": {},
   "outputs": [],
   "source": [
    "import pyvo"
   ]
  },
  {
   "cell_type": "code",
   "execution_count": null,
   "metadata": {},
   "outputs": [],
   "source": [
    "jtap = pyvo.dal.TAPService(\"http://dals:8080/dals/tap-jwst\")"
   ]
  },
  {
   "cell_type": "code",
   "execution_count": null,
   "metadata": {},
   "outputs": [],
   "source": [
    "h100 = jtap.search(\"Select top 100 * from sia.jcat\")"
   ]
  },
  {
   "cell_type": "code",
   "execution_count": null,
   "metadata": {},
   "outputs": [],
   "source": [
    "h100"
   ]
  },
  {
   "cell_type": "code",
   "execution_count": 12,
   "metadata": {},
   "outputs": [],
   "source": [
    "far = jtap.search(\"select galaxy_id,s_ra,s_dec,redshift,max_stellar_age from sia.jcat where max_stellar_age > 9.95 order by max_stellar_age desc, redshift desc\")"
   ]
  },
  {
   "cell_type": "code",
   "execution_count": 14,
   "metadata": {},
   "outputs": [
    {
     "data": {
      "text/plain": [
       "<Table masked=True length=378>\n",
       "galaxy_id    s_ra     s_dec    redshift max_stellar_age\n",
       "  int32    float64   float64   float64      float32    \n",
       "--------- --------- ---------- -------- ---------------\n",
       "       56 53.234994 -27.755822 0.203526       10.035846\n",
       "      443 53.234523 -27.744533 0.224315       10.032314\n",
       "      422 53.115835 -27.838032 0.223689       10.032314\n",
       "      376 53.096351 -27.880471 0.221577       10.030383\n",
       "      176  53.17607 -27.765828 0.210317       10.030383\n",
       "      425 53.224466 -27.861552 0.223743       10.030125\n",
       "      261 53.147229 -27.760788 0.215478       10.030125\n",
       "      287 53.100844 -27.733637 0.216616        10.02933\n",
       "      282 53.142814 -27.816346 0.216424       10.027008\n",
       "       41 53.115451 -27.797682 0.202796       10.027008\n",
       "      ...       ...        ...      ...             ...\n",
       "     2087 53.091467 -27.816891 0.287528       9.9505415\n",
       "     1980 53.071747 -27.849348 0.284114       9.9505415\n",
       "     1602 53.101642 -27.822768 0.271027       9.9505415\n",
       "     1002 53.186458 -27.742218 0.247594       9.9505415\n",
       "      979 53.209673 -27.877478 0.246345       9.9505415\n",
       "      863 53.213406 -27.743973 0.241722       9.9505415\n",
       "      849  53.19118 -27.726981 0.241371       9.9505415\n",
       "      676 53.193206 -27.722871 0.234038       9.9505415\n",
       "      353 53.074951  -27.72929 0.220111       9.9505415\n",
       "     3734 53.123099 -27.782396 0.337494        9.950339"
      ]
     },
     "execution_count": 14,
     "metadata": {},
     "output_type": "execute_result"
    }
   ],
   "source": [
    "far"
   ]
  },
  {
   "cell_type": "code",
   "execution_count": null,
   "metadata": {},
   "outputs": [],
   "source": []
  },
  {
   "cell_type": "code",
   "execution_count": null,
   "metadata": {},
   "outputs": [],
   "source": []
  }
 ],
 "metadata": {
  "kernelspec": {
   "display_name": "Python 3",
   "language": "python",
   "name": "python3"
  },
  "language_info": {
   "codemirror_mode": {
    "name": "ipython",
    "version": 3
   },
   "file_extension": ".py",
   "mimetype": "text/x-python",
   "name": "python",
   "nbconvert_exporter": "python",
   "pygments_lexer": "ipython3",
   "version": "3.7.3"
  }
 },
 "nbformat": 4,
 "nbformat_minor": 4
}
