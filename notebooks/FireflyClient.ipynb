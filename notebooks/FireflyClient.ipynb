{
 "cells": [
  {
   "cell_type": "code",
   "execution_count": null,
   "metadata": {},
   "outputs": [],
   "source": [
    "from firefly_client import FireflyClient\n",
    "import requests"
   ]
  },
  {
   "cell_type": "raw",
   "metadata": {},
   "source": [
    "If Hector entry is added to localhost AND Firefly and JupAL are both started individually then:\n",
    "   fc = FireflyClient('http://hector:8888/firefly/')\n",
    "\n",
    "If Firefly and JupAL are both started in the same stack then:\n",
    "   fc = FireflyClient('http://firefly:8080/firefly')\n",
    "   BUT the the localhost browser won't be able to access 'firefly' host so you have to modify URL to:\n",
    "     http://localhost:8080/firefly"
   ]
  },
  {
   "cell_type": "code",
   "execution_count": null,
   "metadata": {},
   "outputs": [],
   "source": [
    "# ffURL = 'https://irsa.ipac.caltech.edu/irsaviewer'\n",
    "# ffURL = 'http://firefly:8888/firefly/'\n",
    "ffURL = 'http://hector:8888/firefly/'"
   ]
  },
  {
   "cell_type": "code",
   "execution_count": null,
   "metadata": {},
   "outputs": [],
   "source": [
    "fc = FireflyClient(ffURL)\n",
    "fc"
   ]
  },
  {
   "cell_type": "code",
   "execution_count": null,
   "metadata": {},
   "outputs": [],
   "source": [
    "fc.launch_browser()"
   ]
  },
  {
   "cell_type": "markdown",
   "metadata": {},
   "source": [
    "NB: Modified this URL to http://localhost:8888/local/?... since firefly:8080 is not visible to local browser."
   ]
  },
  {
   "cell_type": "code",
   "execution_count": null,
   "metadata": {},
   "outputs": [],
   "source": [
    "import os\n",
    "print(os.getcwd())"
   ]
  },
  {
   "cell_type": "markdown",
   "metadata": {},
   "source": [
    "Loaded image from the current directory, which is /home/jovyan/work, as show above."
   ]
  },
  {
   "cell_type": "code",
   "execution_count": null,
   "metadata": {},
   "outputs": [],
   "source": [
    "fval = fc.upload_file('HorseHead.fits')"
   ]
  },
  {
   "cell_type": "code",
   "execution_count": null,
   "metadata": {},
   "outputs": [],
   "source": [
    "fc.show_fits(fval, plot_id='hh', title='HorseHead Nebula')"
   ]
  },
  {
   "cell_type": "code",
   "execution_count": null,
   "metadata": {},
   "outputs": [],
   "source": [
    "import requests\n",
    "resp = requests.get(ffURL)\n",
    "if (resp.status_code != 200):\n",
    "    print(\"Failed with code: {}\".format(resp.status_code))\n",
    "    print(resp.headers)\n",
    "else:\n",
    "   print(resp.text)"
   ]
  }
 ],
 "metadata": {
  "kernelspec": {
   "display_name": "Python 3",
   "language": "python",
   "name": "python3"
  },
  "language_info": {
   "codemirror_mode": {
    "name": "ipython",
    "version": 3
   },
   "file_extension": ".py",
   "mimetype": "text/x-python",
   "name": "python",
   "nbconvert_exporter": "python",
   "pygments_lexer": "ipython3",
   "version": "3.7.3"
  }
 },
 "nbformat": 4,
 "nbformat_minor": 4
}
