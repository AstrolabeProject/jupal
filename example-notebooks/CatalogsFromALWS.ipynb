{
 "cells": [
  {
   "cell_type": "markdown",
   "metadata": {
    "tags": []
   },
   "source": [
    "# Query and/or Retrieve catalogs from the AL / JWST Server."
   ]
  },
  {
   "cell_type": "code",
   "execution_count": null,
   "metadata": {
    "tags": []
   },
   "outputs": [],
   "source": [
    "# Example notebook to query and/or retrieve catalogs from the AL/JWST Server via its API.\n",
    "#   Utilizes the ALWS_utils.ipynb notebook, which contains API helper classes and methods.\n",
    "#\n",
    "#  Written by: Tom Hicks. 5/13/2022.\n",
    "#  Last Modified: Add cone queries."
   ]
  },
  {
   "cell_type": "code",
   "execution_count": null,
   "metadata": {},
   "outputs": [],
   "source": [
    "import matplotlib\n",
    "import matplotlib.pyplot as plt\n",
    "from matplotlib.colors import LogNorm\n",
    "\n",
    "%matplotlib inline"
   ]
  },
  {
   "cell_type": "code",
   "execution_count": null,
   "metadata": {},
   "outputs": [],
   "source": [
    "from astropy.coordinates import SkyCoord\n",
    "from astropy.io import fits\n",
    "from astropy.wcs import WCS\n",
    "from astropy.utils.data import download_file\n",
    "from astropy.visualization import MinMaxInterval, AsinhStretch, SqrtStretch, ImageNormalize\n",
    "import astropy.units as u"
   ]
  },
  {
   "cell_type": "code",
   "execution_count": null,
   "metadata": {},
   "outputs": [],
   "source": [
    "import pandas as pd\n",
    "from io import StringIO"
   ]
  },
  {
   "cell_type": "markdown",
   "metadata": {},
   "source": [
    "#### Load additional \"helper\" code to help manage interaction with the API:"
   ]
  },
  {
   "cell_type": "code",
   "execution_count": null,
   "metadata": {},
   "outputs": [],
   "source": [
    "%run ALWS_utils.ipynb"
   ]
  },
  {
   "cell_type": "markdown",
   "metadata": {},
   "source": [
    "#### Create an instance of the API \"helper\" class which uses the default server base URL (both just loaded)."
   ]
  },
  {
   "cell_type": "code",
   "execution_count": null,
   "metadata": {},
   "outputs": [],
   "source": [
    "api = AlwsApi()"
   ]
  },
  {
   "cell_type": "markdown",
   "metadata": {
    "tags": []
   },
   "source": [
    "#### Authorize an existing user, storing the resulting JWT access token in the instance of the class:"
   ]
  },
  {
   "cell_type": "code",
   "execution_count": null,
   "metadata": {
    "tags": []
   },
   "outputs": [],
   "source": [
    "## Uncomment the following two lines to see the response when authorization fails:\n",
    "# resp = api.authorize('jfake@nowhere.com', 'invalid_pwd')\n",
    "# print(resp.json())\n",
    "resp = api.authorize('jfake@nowhere.com', 'testydjango2')\n",
    "# print(resp.json())"
   ]
  },
  {
   "cell_type": "markdown",
   "metadata": {},
   "source": [
    "## Fetch a catalog file (CSV) from the Astrolabe image server"
   ]
  },
  {
   "cell_type": "markdown",
   "metadata": {},
   "source": [
    "#### First, let's see what catalogs are available from the server:"
   ]
  },
  {
   "cell_type": "code",
   "execution_count": null,
   "metadata": {},
   "outputs": [],
   "source": [
    "resp = api.get('cats/names/')\n",
    "get_results(resp)"
   ]
  },
  {
   "cell_type": "markdown",
   "metadata": {},
   "source": [
    "#### Let's get more information about the **small10** catalog. To do so, we can (1) manually construct the desired URL or (2) provide a dictionary of arguments to our \"helper\" function and allow it to construct the URL. Here is an example of using a manually constructed URL:"
   ]
  },
  {
   "cell_type": "code",
   "execution_count": null,
   "metadata": {},
   "outputs": [],
   "source": [
    "get_results(api.get('cats/by_name/?catalog=small10'))"
   ]
  },
  {
   "cell_type": "markdown",
   "metadata": {},
   "source": [
    "#### When using the API programmatically, you may often construct the argument dictionary separately and, later, pass it to the helper function. For example:"
   ]
  },
  {
   "cell_type": "code",
   "execution_count": null,
   "metadata": {
    "tags": []
   },
   "outputs": [],
   "source": [
    "# Compute some arguments and then call the 'get' function with those arguments:\n",
    "#    which_catalog = ...some computation producing a dictionary...\n",
    "#    ...\n",
    "#    get_results(api.get('cats/by_name/', params=which_catalog))"
   ]
  },
  {
   "cell_type": "markdown",
   "metadata": {},
   "source": [
    "#### For simple cases, we can also just construct the argument dictionary manually:"
   ]
  },
  {
   "cell_type": "code",
   "execution_count": null,
   "metadata": {},
   "outputs": [],
   "source": [
    "get_results(api.get('cats/by_name/', params={'catalog': 'small10'}))"
   ]
  },
  {
   "cell_type": "markdown",
   "metadata": {},
   "source": [
    "#### The catalog **small10** looks like a good test case. Let's fetch the entire catalog and read the resulting CSV into a Pandas DataFrame.\n",
    "#### _NOTE:_ Use this call carefully, as your computer may not have enough resources to fetch all rows of a large catalog."
   ]
  },
  {
   "cell_type": "code",
   "execution_count": null,
   "metadata": {},
   "outputs": [],
   "source": [
    "resp = api.get('cats/fetch/', params={'catalog': 'small10'})\n",
    "csv_string = StringIO(resp.text)\n",
    "df = pd.read_csv(csv_string)\n",
    "df"
   ]
  },
  {
   "cell_type": "markdown",
   "metadata": {},
   "source": [
    "#### Since this is a tiny catalog, we can also get its data as a JSON structure.\n",
    "#### _NOTE: Use this call carefully, as the JSON response takes more time and memory. (Not recommended for catalogs with more than ~2000 rows)._"
   ]
  },
  {
   "cell_type": "code",
   "execution_count": null,
   "metadata": {},
   "outputs": [],
   "source": [
    "resp = api.get('cats/rows/by_catalog/', params={'catalog': 'small10'})\n",
    "jcat = get_results(resp)\n",
    "jcat"
   ]
  },
  {
   "cell_type": "markdown",
   "metadata": {},
   "source": [
    "#### Each JSON object, corresponding to a row, stores the original table values for that row in a dictionary called 'cols'. We can rearrange the rows into a list of dictionaries, making it easy to read them into a Pandas DataFrame:"
   ]
  },
  {
   "cell_type": "code",
   "execution_count": null,
   "metadata": {},
   "outputs": [],
   "source": [
    "dfj = pd.DataFrame([rec.get('cols') for rec in jcat])\n",
    "dfj"
   ]
  },
  {
   "cell_type": "markdown",
   "metadata": {},
   "source": [
    "## Do a Cone Query for matching rows within a catalog:"
   ]
  },
  {
   "cell_type": "markdown",
   "metadata": {},
   "source": [
    "#### _Note: The AL/JWST respository allows for the storage of heterogenous catalogs whose only common columns are right ascension, declination, and magnitude. Therefore, cone queries must be done per catalog in order to retrieve the proper structure for each catalog._"
   ]
  },
  {
   "cell_type": "markdown",
   "metadata": {},
   "source": [
    "#### First, let's find out which catalogs contain data rows near a certain coordinate. To do this we use the _query_cone_count_ API call:"
   ]
  },
  {
   "cell_type": "code",
   "execution_count": null,
   "metadata": {},
   "outputs": [],
   "source": [
    "get_results(api.get('cats/rows/query_cone/count/', params={'dec': -27.831254438, 'ra': 53.200010146, 'sizeArcSec': 30}))"
   ]
  },
  {
   "cell_type": "markdown",
   "metadata": {},
   "source": [
    "#### Two catalogs appear to contain matching data, with 10 records each. In order to retrieve the matching rows from the **small326** catalog, we need to add the catalog name to the previous dictionary of query arguments:"
   ]
  },
  {
   "cell_type": "code",
   "execution_count": null,
   "metadata": {},
   "outputs": [],
   "source": [
    "resp = api.get('cats/rows/fetch_cone/by_catalog/', params={'dec': -27.831254438, 'ra': 53.200010146, 'sizeArcSec': 30, 'catalog': 'small326'})\n",
    "# OR\n",
    "# api.get('cats/rows/fetch_cone/by_catalog/?dec=-27.831254438&ra=53.200010146&sizeArcSec=30&catalog=small326')"
   ]
  },
  {
   "cell_type": "markdown",
   "metadata": {},
   "source": [
    "#### Since _fetch_cone_ returns its results as CSV, the matching rows are found in the 'text' portion of the response. We can read the matching rows into a Pandas DataFrame, as follows:"
   ]
  },
  {
   "cell_type": "code",
   "execution_count": null,
   "metadata": {},
   "outputs": [],
   "source": [
    "dfq = pd.read_csv(StringIO(resp.text))\n",
    "dfq"
   ]
  },
  {
   "cell_type": "markdown",
   "metadata": {},
   "source": [
    "#### _Note: that when data rows are returned from the repository database via a query, the original table column names are automatically prefixed with '**t.**' to distinguish them from other database columns (such as the 'catalog' id column above)._"
   ]
  }
 ],
 "metadata": {
  "kernelspec": {
   "display_name": "Python 3 (ipykernel)",
   "language": "python",
   "name": "python3"
  },
  "language_info": {
   "codemirror_mode": {
    "name": "ipython",
    "version": 3
   },
   "file_extension": ".py",
   "mimetype": "text/x-python",
   "name": "python",
   "nbconvert_exporter": "python",
   "pygments_lexer": "ipython3",
   "version": "3.9.7"
  }
 },
 "nbformat": 4,
 "nbformat_minor": 4
}
