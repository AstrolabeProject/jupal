{
 "cells": [
  {
   "cell_type": "code",
   "execution_count": null,
   "metadata": {},
   "outputs": [],
   "source": [
    "import matplotlib\n",
    "import matplotlib.pyplot as plt\n",
    "from matplotlib.colors import LogNorm\n",
    "\n",
    "%matplotlib inline"
   ]
  },
  {
   "cell_type": "code",
   "execution_count": null,
   "metadata": {},
   "outputs": [],
   "source": [
    "from astropy.coordinates import SkyCoord\n",
    "from astropy.io import fits\n",
    "from astropy.wcs import WCS\n",
    "from astropy.utils.data import download_file\n",
    "from astropy.visualization import MinMaxInterval, AsinhStretch, SqrtStretch, ImageNormalize\n",
    "import astropy.units as u"
   ]
  },
  {
   "cell_type": "code",
   "execution_count": null,
   "metadata": {},
   "outputs": [],
   "source": [
    "import requests\n",
    "import io"
   ]
  },
  {
   "cell_type": "markdown",
   "metadata": {},
   "source": [
    "## An optional helper class to manage interaction with the API"
   ]
  },
  {
   "cell_type": "code",
   "execution_count": null,
   "metadata": {},
   "outputs": [],
   "source": [
    "BASE_URL = 'http://alws.arizona.edu/api'\n",
    "\n",
    "# Helper class for accessing the ALWS API\n",
    "class AlwsApi(object):\n",
    "\n",
    "    def __init__(self, base_url=BASE_URL):\n",
    "        self.base_url = base_url\n",
    "\n",
    "\n",
    "    def compose(self, url):\n",
    "        return f\"{self.base_url}/{url}\"\n",
    "\n",
    "\n",
    "    def get(self, url, params=None, **kwargs):\n",
    "        if (not kwargs):\n",
    "            kwargs = dict()\n",
    "        if (not kwargs.get('headers')):\n",
    "            kwargs['headers'] = dict()\n",
    "        kwargs['headers']['Authorization'] = self.auth_token\n",
    "        return requests.get(self.compose(url), params=params, **kwargs)\n",
    "\n",
    "\n",
    "    def post(self, url, data=None, json=None, **kwargs):\n",
    "        kwargs['headers']['Authorization'] = self.auth_token\n",
    "        return requests.post(self.compose(url), data=data, json=json, **kwargs)\n",
    "\n",
    "\n",
    "    def authorize(self, email, password):\n",
    "        resp = requests.post(self.compose('auth/token/create/'), data={'email': email, 'password': password})\n",
    "        if (resp.status_code == 200):\n",
    "            self.token_pair = resp.json()\n",
    "            self.auth_token = f\"Bearer {self.token_pair.get('access')}\"\n",
    "            self.auth_header = {'Authorization': self.auth_token}\n",
    "        return resp"
   ]
  },
  {
   "cell_type": "markdown",
   "metadata": {},
   "source": [
    "#### Create an instance of the API helper class (uses the default server base url)"
   ]
  },
  {
   "cell_type": "code",
   "execution_count": null,
   "metadata": {},
   "outputs": [],
   "source": [
    "api = AlwsApi()"
   ]
  },
  {
   "cell_type": "markdown",
   "metadata": {},
   "source": [
    "#### Authorize a user, store the resulting JWT access token in the instance of the class"
   ]
  },
  {
   "cell_type": "code",
   "execution_count": null,
   "metadata": {
    "tags": []
   },
   "outputs": [],
   "source": [
    "# resp = api.authorize('jfake@nowhere.com', 'testydjango')\n",
    "# print(resp.json())\n",
    "resp = api.authorize('jfake@nowhere.com', 'testydjango2')"
   ]
  },
  {
   "cell_type": "markdown",
   "metadata": {},
   "source": [
    "## Load and plot an entire image from the Astrolabe image server"
   ]
  },
  {
   "cell_type": "markdown",
   "metadata": {},
   "source": [
    "#### First, let's see what images are available from the image server:"
   ]
  },
  {
   "cell_type": "code",
   "execution_count": null,
   "metadata": {},
   "outputs": [],
   "source": [
    "resp = api.get('imgmd/')\n",
    "[file.get('file_name') for file in resp.json()]"
   ]
  },
  {
   "cell_type": "markdown",
   "metadata": {},
   "source": [
    "#### Since memory is limited, let's select a **small** image to display. (The following assumes that the `HorseHead.fits` file was listed above. If not, subsitute another filename below)."
   ]
  },
  {
   "cell_type": "code",
   "execution_count": null,
   "metadata": {},
   "outputs": [],
   "source": [
    "imgURL = api.compose('img/fetch_by_filename/HorseHead.fits')\n",
    "image_file = download_file(imgURL, http_headers=api.auth_header)"
   ]
  },
  {
   "cell_type": "code",
   "execution_count": null,
   "metadata": {},
   "outputs": [],
   "source": [
    "## Alternatively, one can download the bytes into memory and then read them directly:\n",
    "# resp = api.get('img/fetch_by_filename/HorseHead.fits')\n",
    "# if (resp.status_code == 200):\n",
    "#     image_file = io.BytesIO(resp.content)\n",
    "# else:\n",
    "#     print(resp.json())  # print error message    "
   ]
  },
  {
   "cell_type": "code",
   "execution_count": null,
   "metadata": {},
   "outputs": [],
   "source": [
    "image_hdus = fits.open(image_file)"
   ]
  },
  {
   "cell_type": "markdown",
   "metadata": {},
   "source": [
    "#### After downloading and opening the image, we can inspect its headers and properties."
   ]
  },
  {
   "cell_type": "code",
   "execution_count": null,
   "metadata": {},
   "outputs": [],
   "source": [
    "image_hdus.info()"
   ]
  },
  {
   "cell_type": "code",
   "execution_count": null,
   "metadata": {},
   "outputs": [],
   "source": [
    "image = image_hdus[0].data\n",
    "image.shape"
   ]
  },
  {
   "cell_type": "markdown",
   "metadata": {},
   "source": [
    "#### Finally, we can plot the image."
   ]
  },
  {
   "cell_type": "code",
   "execution_count": null,
   "metadata": {},
   "outputs": [],
   "source": [
    "plt.imshow(image, cmap='magma')\n",
    "plt.colorbar()"
   ]
  },
  {
   "cell_type": "markdown",
   "metadata": {},
   "source": [
    "## Query for, load, and plot a cutout from the Astrolabe image server"
   ]
  },
  {
   "cell_type": "markdown",
   "metadata": {},
   "source": [
    "#### First, get a cutout of 10 arc seconds from an image, with the specified filter, from the specified collection, which contains the specified point."
   ]
  },
  {
   "cell_type": "code",
   "execution_count": null,
   "metadata": {},
   "outputs": [],
   "source": [
    "params={'ra': '53.1617', 'dec': '-27.78', 'sizeArcSec': '10', 'filter': 'F356W', 'collection': 'DC20'}\n",
    "resp = api.get('cuts/fetch_cutout/', params)\n",
    "if (resp.status_code == 200):\n",
    "    co_hdus = fits.open(io.BytesIO(resp.content))\n",
    "else:\n",
    "    print(resp.json())  # print error message"
   ]
  },
  {
   "cell_type": "markdown",
   "metadata": {},
   "source": [
    "#### After downloading and opening the image, we can inspect its headers and properties."
   ]
  },
  {
   "cell_type": "code",
   "execution_count": null,
   "metadata": {},
   "outputs": [],
   "source": [
    "co_hdus.info()"
   ]
  },
  {
   "cell_type": "code",
   "execution_count": null,
   "metadata": {},
   "outputs": [],
   "source": [
    "co_hdu = co_hdus[0]\n",
    "wcs = WCS(co_hdu.header)\n",
    "cutout = co_hdu.data\n",
    "cutout.shape"
   ]
  },
  {
   "cell_type": "markdown",
   "metadata": {},
   "source": [
    "#### Finally, we can plot the image data."
   ]
  },
  {
   "cell_type": "code",
   "execution_count": null,
   "metadata": {},
   "outputs": [],
   "source": [
    "# norm_cutout = ImageNormalize(cutout, interval=MinMaxInterval(), stretch=AsinhStretch())\n",
    "norm_cutout = ImageNormalize(cutout, interval=MinMaxInterval(), stretch=SqrtStretch())"
   ]
  },
  {
   "cell_type": "code",
   "execution_count": null,
   "metadata": {},
   "outputs": [],
   "source": [
    "fig = plt.figure(figsize=(12,12))\n",
    "fig.add_subplot(111, projection=wcs)\n",
    "plt.imshow(cutout, origin='lower', cmap=plt.cm.gray, norm=norm_cutout)\n",
    "plt.colorbar()\n",
    "plt.xlabel('RA')\n",
    "plt.ylabel('Dec')"
   ]
  }
 ],
 "metadata": {
  "kernelspec": {
   "display_name": "Python 3 (ipykernel)",
   "language": "python",
   "name": "python3"
  },
  "language_info": {
   "codemirror_mode": {
    "name": "ipython",
    "version": 3
   },
   "file_extension": ".py",
   "mimetype": "text/x-python",
   "name": "python",
   "nbconvert_exporter": "python",
   "pygments_lexer": "ipython3",
   "version": "3.9.7"
  }
 },
 "nbformat": 4,
 "nbformat_minor": 4
}
