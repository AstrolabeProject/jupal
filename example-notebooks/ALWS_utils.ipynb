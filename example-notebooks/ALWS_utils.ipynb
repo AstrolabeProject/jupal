{
 "cells": [
  {
   "cell_type": "markdown",
   "id": "961fc1e1-6b22-42dd-8d25-5f9ca4e1190b",
   "metadata": {},
   "source": [
    "# AL / JWST Shared Utilities Notebook"
   ]
  },
  {
   "cell_type": "markdown",
   "id": "fed19f8d-dc2a-4564-bd01-f95c3ad3dc2e",
   "metadata": {},
   "source": [
    "#### This notebook is intended to be loaded (using %run) by other notebooks in the same directory. It provides common variables and client code for working with the Astrolabe / JWST server via its API."
   ]
  },
  {
   "cell_type": "markdown",
   "id": "9d783f8b-7167-40f3-80e8-9800771f4167",
   "metadata": {},
   "source": [
    "## An optional helper class to manage interaction with the API:"
   ]
  },
  {
   "cell_type": "code",
   "execution_count": 2,
   "id": "0e04132c-b004-4b9b-ab7d-b48d79db3c5f",
   "metadata": {},
   "outputs": [],
   "source": [
    "import requests\n",
    "import io"
   ]
  },
  {
   "cell_type": "code",
   "execution_count": null,
   "id": "57bffb0a-067d-47c6-a304-5d930b50f02c",
   "metadata": {},
   "outputs": [],
   "source": [
    "# default base URL for the AL/JWST API\n",
    "BASE_URL = 'http://alws.arizona.edu/api'\n",
    "\n",
    "# Helper class for accessing the ALWS API\n",
    "class AlwsApi(object):\n",
    "\n",
    "    def __init__(self, base_url=BASE_URL):\n",
    "        self.base_url = base_url\n",
    "\n",
    "\n",
    "    def compose(self, url):\n",
    "        return f\"{self.base_url}/{url}\"\n",
    "\n",
    "\n",
    "    def get(self, url, params=None, **kwargs):\n",
    "        if (not kwargs):\n",
    "            kwargs = dict()\n",
    "        if (not kwargs.get('headers')):\n",
    "            kwargs['headers'] = dict()\n",
    "        kwargs['headers']['Authorization'] = self.auth_token\n",
    "        return requests.get(self.compose(url), params=params, **kwargs)\n",
    "\n",
    "\n",
    "    def post(self, url, data=None, json=None, **kwargs):\n",
    "        kwargs['headers']['Authorization'] = self.auth_token\n",
    "        return requests.post(self.compose(url), data=data, json=json, **kwargs)\n",
    "\n",
    "\n",
    "    def authorize(self, email, password):\n",
    "        resp = requests.post(self.compose('auth/token/create/'), data={'email': email, 'password': password})\n",
    "        if (resp.status_code == 200):\n",
    "            self.token_pair = resp.json()\n",
    "            self.auth_token = f\"Bearer {self.token_pair.get('access')}\"\n",
    "            self.auth_header = {'Authorization': self.auth_token}\n",
    "        return resp"
   ]
  },
  {
   "cell_type": "markdown",
   "id": "c3457bb8-33ef-4bca-83eb-391c446c4353",
   "metadata": {},
   "source": [
    "## Some timing routines, courtesy of Steve Pothiers, NOIR Lab"
   ]
  },
  {
   "cell_type": "code",
   "execution_count": 1,
   "id": "059950bb-d7ca-4d31-80cd-e02d9b874e8a",
   "metadata": {},
   "outputs": [],
   "source": [
    "import time\n",
    "def tic():\n",
    "    tic.start = time.perf_counter()\n",
    "\n",
    "def toc():\n",
    "    elapsed_seconds = time.perf_counter() - tic.start\n",
    "    return elapsed_seconds  # fractional\n",
    "\n",
    "## Example use of tic-toc:\n",
    "# tic()\n",
    "# time.sleep(3)\n",
    "# print(toc())"
   ]
  }
 ],
 "metadata": {
  "kernelspec": {
   "display_name": "Python 3 (ipykernel)",
   "language": "python",
   "name": "python3"
  },
  "language_info": {
   "codemirror_mode": {
    "name": "ipython",
    "version": 3
   },
   "file_extension": ".py",
   "mimetype": "text/x-python",
   "name": "python",
   "nbconvert_exporter": "python",
   "pygments_lexer": "ipython3",
   "version": "3.9.7"
  }
 },
 "nbformat": 4,
 "nbformat_minor": 5
}
